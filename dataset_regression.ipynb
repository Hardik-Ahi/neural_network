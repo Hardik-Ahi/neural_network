{
 "cells": [
  {
   "cell_type": "code",
   "execution_count": null,
   "id": "adf348b7",
   "metadata": {},
   "outputs": [],
   "source": [
    "import pandas as pd\n",
    "from nn.model_classes import Model, Layer\n",
    "from nn.functions import mean_square_error, der_mean_square_error, leaky_relu, der_leaky_relu, sigmoid, der_sigmoid, mirror, der_mirror\n",
    "from nn.trainer import RegressionTrainer\n",
    "from nn.plotter import Plotter\n",
    "from nn.dataset_utils import linear_regression_dataset, standardize_data, split_data\n",
    "from nn.optimizers import SGD, Momentum"
   ]
  },
  {
   "cell_type": "code",
   "execution_count": null,
   "id": "bda7d02b",
   "metadata": {},
   "outputs": [],
   "source": [
    "dataset = pd.read_csv(r'datasets\\expenses_Sruthi.csv')"
   ]
  },
  {
   "cell_type": "code",
   "execution_count": null,
   "id": "7fca6b89",
   "metadata": {},
   "outputs": [],
   "source": [
    "dataset.info()"
   ]
  },
  {
   "cell_type": "code",
   "execution_count": null,
   "id": "3e3f5891",
   "metadata": {},
   "outputs": [],
   "source": [
    "dataset.head()"
   ]
  },
  {
   "cell_type": "code",
   "execution_count": null,
   "id": "06263016",
   "metadata": {},
   "outputs": [],
   "source": [
    "dataset = pd.get_dummies(dataset, drop_first = True, dtype = int)\n",
    "dataset.head()"
   ]
  },
  {
   "cell_type": "code",
   "execution_count": null,
   "id": "7f371c0d",
   "metadata": {},
   "outputs": [],
   "source": [
    "dataset.info()"
   ]
  },
  {
   "cell_type": "code",
   "execution_count": null,
   "id": "eb276234",
   "metadata": {},
   "outputs": [],
   "source": [
    "D_train, D_test = split_data(dataset, 0.3, 10)"
   ]
  },
  {
   "cell_type": "code",
   "execution_count": null,
   "id": "8c3187ba",
   "metadata": {},
   "outputs": [],
   "source": [
    "D_train.info()"
   ]
  },
  {
   "cell_type": "code",
   "execution_count": null,
   "id": "a9b7ead0",
   "metadata": {},
   "outputs": [],
   "source": [
    "D_test.info()"
   ]
  },
  {
   "cell_type": "code",
   "execution_count": null,
   "id": "fe1209d2",
   "metadata": {},
   "outputs": [],
   "source": [
    "X_train = D_train.drop(columns = ['charges'])\n",
    "y_train = D_train['charges']"
   ]
  },
  {
   "cell_type": "code",
   "execution_count": null,
   "id": "97a7d460",
   "metadata": {},
   "outputs": [],
   "source": [
    "X_train.head()"
   ]
  },
  {
   "cell_type": "code",
   "execution_count": null,
   "id": "86b1a381",
   "metadata": {},
   "outputs": [],
   "source": [
    "y_train.head()"
   ]
  },
  {
   "cell_type": "code",
   "execution_count": null,
   "id": "0b1b9a23",
   "metadata": {},
   "outputs": [],
   "source": [
    "model = Model(mean_square_error, der_mean_square_error, 5)\n",
    "model.add_layer(Layer(X_train.shape[1]))\n",
    "model.add_layer(Layer(X_train.shape[1], leaky_relu(alpha = 0.4), der_leaky_relu(alpha = 0.4)))\n",
    "model.add_layer(Layer(X_train.shape[1], leaky_relu(alpha = 0.4), der_leaky_relu(alpha = 0.4)))\n",
    "model.add_layer(Layer(int(X_train.shape[1] // 1.5), leaky_relu(alpha = 0.4), der_leaky_relu(alpha = 0.4)))\n",
    "model.add_layer(Layer(1, mirror, der_mirror))\n",
    "model.compile()"
   ]
  },
  {
   "cell_type": "code",
   "execution_count": null,
   "id": "dedc1f2d",
   "metadata": {},
   "outputs": [],
   "source": [
    "trainer = RegressionTrainer(model, Momentum(0.5))"
   ]
  },
  {
   "cell_type": "code",
   "execution_count": null,
   "id": "1feb96f6",
   "metadata": {},
   "outputs": [],
   "source": [
    "X_train = X_train.to_numpy()\n",
    "y_train = y_train.to_numpy()\n",
    "y_train = y_train.reshape((y_train.shape[0], 1))\n",
    "X_means, X_stds = standardize_data(X_train)\n",
    "y_means, y_stds = standardize_data(y_train)"
   ]
  },
  {
   "cell_type": "code",
   "execution_count": null,
   "id": "875d02ea",
   "metadata": {},
   "outputs": [],
   "source": [
    "trainer.train(X_train, y_train, 1, 0.02, 50)"
   ]
  },
  {
   "cell_type": "code",
   "execution_count": null,
   "id": "c11e77d9",
   "metadata": {},
   "outputs": [],
   "source": [
    "trainer.save_history('./logs', 'dataset_regression')"
   ]
  },
  {
   "cell_type": "code",
   "execution_count": null,
   "id": "3c13f1d4",
   "metadata": {},
   "outputs": [],
   "source": [
    "plotter = Plotter()\n",
    "plotter.read_file(r'logs\\dataset_regression.txt')\n",
    "plotter.plot_gradients(\"./plots\", \"dataset_regression\", 700)\n",
    "plotter.plot_weights(\"./plots\", \"dataset_regression\", 700)\n",
    "plotter.plot_score(\"./plots\", \"dataset_regression\", 700, False)"
   ]
  },
  {
   "cell_type": "code",
   "execution_count": null,
   "id": "3f734125",
   "metadata": {},
   "outputs": [],
   "source": [
    "X_test = D_test.drop(columns = ['charges'])\n",
    "y_test = D_test['charges']"
   ]
  },
  {
   "cell_type": "code",
   "execution_count": null,
   "id": "3e8dafda",
   "metadata": {},
   "outputs": [],
   "source": [
    "X_test = X_test.to_numpy()\n",
    "y_test = y_test.to_numpy()\n",
    "y_test = y_test.reshape((y_test.shape[0], 1))"
   ]
  },
  {
   "cell_type": "code",
   "execution_count": null,
   "id": "19a86dc9",
   "metadata": {},
   "outputs": [],
   "source": [
    "standardize_data(X_test, X_means, X_stds)\n",
    "standardize_data(y_test, y_means, y_stds)"
   ]
  },
  {
   "cell_type": "code",
   "execution_count": null,
   "id": "3521b013",
   "metadata": {},
   "outputs": [],
   "source": [
    "_ = trainer.predict(X_test, y_test)"
   ]
  },
  {
   "cell_type": "code",
   "execution_count": null,
   "id": "399af480",
   "metadata": {},
   "outputs": [],
   "source": []
  }
 ],
 "metadata": {
  "kernelspec": {
   "display_name": "python_venv",
   "language": "python",
   "name": "python3"
  },
  "language_info": {
   "codemirror_mode": {
    "name": "ipython",
    "version": 3
   },
   "file_extension": ".py",
   "mimetype": "text/x-python",
   "name": "python",
   "nbconvert_exporter": "python",
   "pygments_lexer": "ipython3",
   "version": "3.9.6"
  }
 },
 "nbformat": 4,
 "nbformat_minor": 5
}
