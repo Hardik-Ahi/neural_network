{
 "cells": [
  {
   "cell_type": "code",
   "execution_count": null,
   "id": "adf348b7",
   "metadata": {},
   "outputs": [],
   "source": [
    "import pandas as pd\n",
    "import numpy as np\n",
    "from nn.model_classes import Model, Layer\n",
    "from nn.functions import BinaryLoss, leaky_relu, der_leaky_relu, sigmoid, der_sigmoid, mirror, der_mirror, softmax\n",
    "from nn.trainer import Trainer\n",
    "from nn.plotter import Plotter\n",
    "from nn.dataset_utils import pca, standardize_data, equalize_classes, split_classes\n",
    "from nn.optimizers import SGD"
   ]
  },
  {
   "cell_type": "code",
   "execution_count": null,
   "id": "bda7d02b",
   "metadata": {},
   "outputs": [],
   "source": [
    "dataset = pd.read_csv(r'datasets\\raisin_Sruthi.csv')"
   ]
  },
  {
   "cell_type": "code",
   "execution_count": null,
   "id": "7fca6b89",
   "metadata": {},
   "outputs": [],
   "source": [
    "dataset.info()"
   ]
  },
  {
   "cell_type": "code",
   "execution_count": null,
   "id": "3e3f5891",
   "metadata": {},
   "outputs": [],
   "source": [
    "dataset.head()"
   ]
  },
  {
   "cell_type": "code",
   "execution_count": null,
   "id": "06263016",
   "metadata": {},
   "outputs": [],
   "source": [
    "dataset = pd.get_dummies(dataset, columns = [\"Class\"], prefix = \"\", prefix_sep = \"\", drop_first = True, dtype = int)\n",
    "dataset.head()"
   ]
  },
  {
   "cell_type": "code",
   "execution_count": null,
   "id": "eb276234",
   "metadata": {},
   "outputs": [],
   "source": [
    "dataset['Kecimen'].value_counts()"
   ]
  },
  {
   "cell_type": "code",
   "execution_count": null,
   "id": "ecac4d39",
   "metadata": {},
   "outputs": [],
   "source": [
    "D_train, D_test = split_classes(dataset, 'Kecimen')"
   ]
  },
  {
   "cell_type": "code",
   "execution_count": null,
   "id": "8c3187ba",
   "metadata": {},
   "outputs": [],
   "source": [
    "D_train.info()"
   ]
  },
  {
   "cell_type": "code",
   "execution_count": null,
   "id": "a9b7ead0",
   "metadata": {},
   "outputs": [],
   "source": [
    "D_test.info()"
   ]
  },
  {
   "cell_type": "code",
   "execution_count": null,
   "id": "fe1209d2",
   "metadata": {},
   "outputs": [],
   "source": [
    "X_train = D_train.drop(columns = ['Kecimen'])\n",
    "y_train = D_train['Kecimen']"
   ]
  },
  {
   "cell_type": "code",
   "execution_count": null,
   "id": "97a7d460",
   "metadata": {},
   "outputs": [],
   "source": [
    "X_train.head()"
   ]
  },
  {
   "cell_type": "code",
   "execution_count": null,
   "id": "86b1a381",
   "metadata": {},
   "outputs": [],
   "source": [
    "y_train.head()"
   ]
  },
  {
   "cell_type": "code",
   "execution_count": null,
   "id": "586bdc4e",
   "metadata": {},
   "outputs": [],
   "source": [
    "X_train = X_train.to_numpy()\n",
    "X_means, X_stds = standardize_data(X_train)\n",
    "X_train"
   ]
  },
  {
   "cell_type": "code",
   "execution_count": null,
   "id": "0b1b9a23",
   "metadata": {},
   "outputs": [],
   "source": [
    "model = Model(BinaryLoss(), 5)\n",
    "model.add_layer(Layer(7))\n",
    "model.add_layer(Layer(7, leaky_relu(), der_leaky_relu()))\n",
    "model.add_layer(Layer(7, leaky_relu(), der_leaky_relu()))\n",
    "model.add_layer(Layer(7, leaky_relu(), der_leaky_relu()))\n",
    "model.add_layer(Layer(1, sigmoid, der_sigmoid))\n",
    "model.compile()"
   ]
  },
  {
   "cell_type": "code",
   "execution_count": null,
   "id": "dedc1f2d",
   "metadata": {},
   "outputs": [],
   "source": [
    "trainer = Trainer(model, SGD())"
   ]
  },
  {
   "cell_type": "code",
   "execution_count": null,
   "id": "1feb96f6",
   "metadata": {},
   "outputs": [],
   "source": [
    "y_train = y_train.to_numpy()\n",
    "y_train[:5]"
   ]
  },
  {
   "cell_type": "code",
   "execution_count": null,
   "id": "875d02ea",
   "metadata": {},
   "outputs": [],
   "source": [
    "#trainer.train(X_train, y_train, 16, 0.02, 20)\n",
    "#model.load_weights(r\"models\\dataset_classification.npz\")"
   ]
  },
  {
   "cell_type": "code",
   "execution_count": null,
   "id": "c11e77d9",
   "metadata": {},
   "outputs": [],
   "source": [
    "#trainer.save_history('./logs', 'dataset_classification')\n",
    "#model.save_weights(\"./models\", \"dataset_classification\")"
   ]
  },
  {
   "cell_type": "code",
   "execution_count": null,
   "id": "3c13f1d4",
   "metadata": {},
   "outputs": [],
   "source": [
    "plotter = Plotter()\n",
    "plotter.read_file(r'logs\\dataset_classification.txt')"
   ]
  },
  {
   "cell_type": "code",
   "execution_count": null,
   "id": "c595303e",
   "metadata": {},
   "outputs": [],
   "source": [
    "#plotter.plot_gradients(\"./plots\", \"dataset_classification\", 700)\n",
    "#plotter.plot_weights(\"./plots\", \"dataset_classification\", 700)\n",
    "#plotter.plot_score(\"./plots\", \"dataset_classification\", 700, False)"
   ]
  },
  {
   "cell_type": "code",
   "execution_count": null,
   "id": "3f734125",
   "metadata": {},
   "outputs": [],
   "source": [
    "X_test = D_test.drop(columns = ['Kecimen'])\n",
    "y_test = D_test['Kecimen']"
   ]
  },
  {
   "cell_type": "code",
   "execution_count": null,
   "id": "3e8dafda",
   "metadata": {},
   "outputs": [],
   "source": [
    "X_test = X_test.to_numpy()\n",
    "y_test = y_test.to_numpy()"
   ]
  },
  {
   "cell_type": "code",
   "execution_count": null,
   "id": "19a86dc9",
   "metadata": {},
   "outputs": [],
   "source": [
    "standardize_data(X_test, from_means = X_means, from_stds = X_stds)"
   ]
  },
  {
   "cell_type": "code",
   "execution_count": null,
   "id": "3521b013",
   "metadata": {},
   "outputs": [],
   "source": [
    "_ = trainer.predict(X_test, y_test)"
   ]
  },
  {
   "cell_type": "code",
   "execution_count": null,
   "id": "df83e329",
   "metadata": {},
   "outputs": [],
   "source": [
    "np.unique(y_train)"
   ]
  },
  {
   "cell_type": "code",
   "execution_count": null,
   "id": "399af480",
   "metadata": {},
   "outputs": [],
   "source": [
    "axis = pca(D_train, \"Kecimen\", 2)\n",
    "plotter.plot_classification(axis[:, 0], axis[:, 1], y_train, \"./plots\", \"dataset_classification\")"
   ]
  },
  {
   "cell_type": "code",
   "execution_count": null,
   "id": "f9d0436e",
   "metadata": {},
   "outputs": [],
   "source": [
    "y_train = y_train.reshape((y_train.shape[0], 1))"
   ]
  },
  {
   "cell_type": "code",
   "execution_count": null,
   "id": "3d699650",
   "metadata": {},
   "outputs": [],
   "source": [
    "plotter.plot_contours(trainer, X_train, y_train, \"./plots\", \"dataset_classification\", magnitude = 0.2)"
   ]
  },
  {
   "cell_type": "code",
   "execution_count": null,
   "id": "253798f5",
   "metadata": {},
   "outputs": [],
   "source": []
  }
 ],
 "metadata": {
  "kernelspec": {
   "display_name": "python_venv",
   "language": "python",
   "name": "python3"
  },
  "language_info": {
   "codemirror_mode": {
    "name": "ipython",
    "version": 3
   },
   "file_extension": ".py",
   "mimetype": "text/x-python",
   "name": "python",
   "nbconvert_exporter": "python",
   "pygments_lexer": "ipython3",
   "version": "3.9.6"
  }
 },
 "nbformat": 4,
 "nbformat_minor": 5
}
