{
 "cells": [
  {
   "cell_type": "code",
   "execution_count": null,
   "id": "b49646d5-cd48-441a-92dd-ac1fc5fb9140",
   "metadata": {},
   "outputs": [],
   "source": [
    "from nn.model_classes import Model, Layer\n",
    "from nn.functions import binary_loss, der_binary_cross_entropy, leaky_relu, der_leaky_relu, sigmoid, der_sigmoid\n",
    "from nn.trainer import Trainer\n",
    "from nn.plotter import Plotter\n",
    "from nn.dataset_utils import and_gate_dataset\n",
    "from nn.optimizers import SGD\n",
    "import numpy as np"
   ]
  },
  {
   "cell_type": "code",
   "execution_count": null,
   "id": "05186803",
   "metadata": {},
   "outputs": [],
   "source": [
    "model = Model(binary_loss, der_binary_cross_entropy, 1)\n",
    "model.add_layer(Layer(2))\n",
    "model.add_layer(Layer(2, leaky_relu(), der_leaky_relu()))\n",
    "model.add_layer(Layer(1, sigmoid, der_sigmoid))\n",
    "model.compile()"
   ]
  },
  {
   "cell_type": "code",
   "execution_count": null,
   "id": "5f17309e",
   "metadata": {},
   "outputs": [],
   "source": [
    "trainer = Trainer(model, SGD())"
   ]
  },
  {
   "cell_type": "code",
   "execution_count": null,
   "id": "019a2da2-5ca5-4a74-926d-5e9835566378",
   "metadata": {},
   "outputs": [],
   "source": [
    "X_train, y_train = and_gate_dataset(100, 1)\n",
    "dataset = np.hstack((X_train, y_train))\n",
    "print(dataset[:10])"
   ]
  },
  {
   "cell_type": "code",
   "execution_count": null,
   "id": "ab18a398",
   "metadata": {},
   "outputs": [],
   "source": [
    "X_test, y_test = and_gate_dataset(50, 2)\n",
    "test_set = np.hstack((X_test, y_test))\n",
    "print(test_set[:10])"
   ]
  },
  {
   "cell_type": "code",
   "execution_count": null,
   "id": "98c7dd35",
   "metadata": {},
   "outputs": [],
   "source": [
    "plotter = Plotter()\n",
    "plotter.set_model_layers(3)"
   ]
  },
  {
   "cell_type": "markdown",
   "id": "4f3452de",
   "metadata": {},
   "source": [
    "### Batch size = 1"
   ]
  },
  {
   "cell_type": "code",
   "execution_count": null,
   "id": "8ae8565f",
   "metadata": {},
   "outputs": [],
   "source": [
    "model.compile()\n",
    "\n",
    "print('weights:')\n",
    "model.show_weights()\n",
    "print('biases:')\n",
    "model.show_biases()"
   ]
  },
  {
   "cell_type": "code",
   "execution_count": null,
   "id": "cfa6760e",
   "metadata": {},
   "outputs": [],
   "source": [
    "trainer.train(X_train, y_train, 1, 0.02, epochs = 120)"
   ]
  },
  {
   "cell_type": "code",
   "execution_count": null,
   "id": "a03e2535-5c45-463d-afec-2795b1336f1f",
   "metadata": {},
   "outputs": [],
   "source": [
    "trainer.save_history('./logs', 'batch_size_1')"
   ]
  },
  {
   "cell_type": "code",
   "execution_count": null,
   "id": "6edf50be",
   "metadata": {},
   "outputs": [],
   "source": [
    "trainer.predict(X_test, y_test, True)"
   ]
  },
  {
   "cell_type": "code",
   "execution_count": null,
   "id": "da945361",
   "metadata": {},
   "outputs": [],
   "source": [
    "model.save_weights('./models', 'batch_size_1')"
   ]
  },
  {
   "cell_type": "code",
   "execution_count": null,
   "id": "7ddb5701",
   "metadata": {},
   "outputs": [],
   "source": [
    "plotter.read_file('./logs/batch_size_1.txt')\n",
    "plotter.plot_gradients('./plots', 'gradients_batch_size_1', 700)\n",
    "plotter.plot_weights('./plots', 'weights_batch_size_1', 700)\n",
    "plotter.plot_score('./plots', 'accuracy_batch_size_1', 700)"
   ]
  },
  {
   "cell_type": "markdown",
   "id": "f1183987",
   "metadata": {},
   "source": [
    "### Batch size = full batch"
   ]
  },
  {
   "cell_type": "code",
   "execution_count": null,
   "id": "3bb421ef",
   "metadata": {},
   "outputs": [],
   "source": [
    "model.compile()  # reset weights\n",
    "\n",
    "print('weights:')\n",
    "model.show_weights()\n",
    "print('biases:')\n",
    "model.show_biases()"
   ]
  },
  {
   "cell_type": "code",
   "execution_count": null,
   "id": "77de0c36",
   "metadata": {},
   "outputs": [],
   "source": [
    "trainer.train(X_train, y_train, learning_rate = 0.08, epochs = 600)  # no.of updates = no.of batches, so log all epochs"
   ]
  },
  {
   "cell_type": "code",
   "execution_count": null,
   "id": "83d62edf",
   "metadata": {},
   "outputs": [],
   "source": [
    "trainer.save_history('./logs', 'batch_size_full')"
   ]
  },
  {
   "cell_type": "code",
   "execution_count": null,
   "id": "c511818e",
   "metadata": {},
   "outputs": [],
   "source": [
    "plotter.read_file('./logs/batch_size_full.txt')\n",
    "plotter.plot_gradients('./plots', 'gradients_batch_size_full', 700)\n",
    "plotter.plot_weights('./plots', 'weights_batch_size_full', 700)\n",
    "plotter.plot_score('./plots', 'accuracy_batch_size_full', 700)"
   ]
  },
  {
   "cell_type": "code",
   "execution_count": null,
   "id": "1bc8d449",
   "metadata": {},
   "outputs": [],
   "source": [
    "model.save_weights('./models', 'batch_size_full')"
   ]
  },
  {
   "cell_type": "code",
   "execution_count": null,
   "id": "03cff40e",
   "metadata": {},
   "outputs": [],
   "source": [
    "trainer.predict(X_test, y_test, True)"
   ]
  },
  {
   "cell_type": "markdown",
   "id": "c6c8a73a",
   "metadata": {},
   "source": [
    "### Batch size = 16 (for 200 samples)"
   ]
  },
  {
   "cell_type": "code",
   "execution_count": null,
   "id": "94098b73",
   "metadata": {},
   "outputs": [],
   "source": [
    "model.compile()\n",
    "\n",
    "print(f'weights:')\n",
    "model.show_weights()\n",
    "print(f'biases:')\n",
    "model.show_biases()"
   ]
  },
  {
   "cell_type": "code",
   "execution_count": null,
   "id": "6aa6249c",
   "metadata": {},
   "outputs": [],
   "source": [
    "trainer.train(X_train, y_train, 16, 0.04, 400, 100)"
   ]
  },
  {
   "cell_type": "code",
   "execution_count": null,
   "id": "902da727",
   "metadata": {},
   "outputs": [],
   "source": [
    "trainer.save_history('./logs', 'batch_size_16')"
   ]
  },
  {
   "cell_type": "code",
   "execution_count": null,
   "id": "182e732e",
   "metadata": {},
   "outputs": [],
   "source": [
    "model.save_weights('./models', 'batch_size_16')"
   ]
  },
  {
   "cell_type": "code",
   "execution_count": null,
   "id": "6d41f6b6",
   "metadata": {},
   "outputs": [],
   "source": [
    "plotter.read_file('./logs/batch_size_16.txt')\n",
    "plotter.plot_gradients('./plots', 'gradients_batch_size_16', 700)\n",
    "plotter.plot_weights('./plots', 'weights_batch_size_16', 700)\n",
    "plotter.plot_score('./plots', 'accuracy_batch_size_16', 700)"
   ]
  },
  {
   "cell_type": "code",
   "execution_count": null,
   "id": "c0d96172",
   "metadata": {},
   "outputs": [],
   "source": [
    "trainer.predict(X_train, y_train, True)"
   ]
  },
  {
   "cell_type": "markdown",
   "id": "13dfe4e7",
   "metadata": {},
   "source": [
    "### Risk with ReLU"
   ]
  },
  {
   "cell_type": "code",
   "execution_count": null,
   "id": "691ddd65",
   "metadata": {},
   "outputs": [],
   "source": [
    "model = Model(binary_loss, der_binary_cross_entropy, 1)\n",
    "model.add_layer(Layer(2))\n",
    "model.add_layer(Layer(2, leaky_relu(0), der_leaky_relu(0)))  # leak = 0\n",
    "model.add_layer(Layer(1, sigmoid, der_sigmoid))"
   ]
  },
  {
   "cell_type": "code",
   "execution_count": null,
   "id": "11266720",
   "metadata": {},
   "outputs": [],
   "source": [
    "model.compile()\n",
    "model.weights[0].matrix = np.array([\n",
    "    [-0.1, -0.01],\n",
    "    [-0.06, -0.04]\n",
    "])\n",
    "\n",
    "print(f'weights:')\n",
    "model.show_weights()\n",
    "print(f'biases:')\n",
    "model.show_biases()"
   ]
  },
  {
   "cell_type": "code",
   "execution_count": null,
   "id": "f3cddefc",
   "metadata": {},
   "outputs": [],
   "source": [
    "trainer = Trainer(model, SGD())\n",
    "trainer.train(X_train, y_train, 1, 0.01, 100, 30)"
   ]
  },
  {
   "cell_type": "code",
   "execution_count": null,
   "id": "1c79f677",
   "metadata": {},
   "outputs": [],
   "source": [
    "trainer.save_history('./logs', 'relu_leak_0')"
   ]
  },
  {
   "cell_type": "code",
   "execution_count": null,
   "id": "a243a367",
   "metadata": {},
   "outputs": [],
   "source": [
    "model.save_weights('./models', 'relu_leak_0')"
   ]
  },
  {
   "cell_type": "code",
   "execution_count": null,
   "id": "e7f34748",
   "metadata": {},
   "outputs": [],
   "source": [
    "plotter.read_file('./logs/relu_leak_0.txt')\n",
    "plotter.plot_gradients('./plots', 'gradients_relu_leak_0', 700)\n",
    "plotter.plot_weights('./plots', 'weights_relu_leak_0', 700)\n",
    "plotter.plot_score('./plots', 'accuracy_relu_leak_0', 700)"
   ]
  },
  {
   "cell_type": "code",
   "execution_count": null,
   "id": "8e83ed9b",
   "metadata": {},
   "outputs": [],
   "source": [
    "trainer.predict(X_test, y_test, True)"
   ]
  },
  {
   "cell_type": "markdown",
   "id": "7864c7e5",
   "metadata": {},
   "source": [
    "### Solution: Leaky ReLU"
   ]
  },
  {
   "cell_type": "code",
   "execution_count": null,
   "id": "dc142501",
   "metadata": {},
   "outputs": [],
   "source": [
    "model = Model(binary_loss, der_binary_cross_entropy, 1)\n",
    "model.add_layer(Layer(2))\n",
    "model.add_layer(Layer(2, leaky_relu(), der_leaky_relu()))  # leak = 0.1\n",
    "model.add_layer(Layer(1, sigmoid, der_sigmoid))"
   ]
  },
  {
   "cell_type": "code",
   "execution_count": null,
   "id": "e9a7ac33",
   "metadata": {},
   "outputs": [],
   "source": [
    "model.compile()\n",
    "model.weights[0].matrix = np.array([\n",
    "    [-0.1, -0.01],\n",
    "    [-0.06, -0.04]\n",
    "])\n",
    "\n",
    "print(f'weights:')\n",
    "model.show_weights()\n",
    "print(f'biases:')\n",
    "model.show_biases()"
   ]
  },
  {
   "cell_type": "code",
   "execution_count": null,
   "id": "62ebaf18",
   "metadata": {},
   "outputs": [],
   "source": [
    "trainer = Trainer(model, SGD())\n",
    "trainer.train(X_train, y_train, 1, 0.04, 200, 30)"
   ]
  },
  {
   "cell_type": "code",
   "execution_count": null,
   "id": "211cf40e",
   "metadata": {},
   "outputs": [],
   "source": [
    "trainer.save_history('./logs', 'relu_leak_0.1')"
   ]
  },
  {
   "cell_type": "code",
   "execution_count": null,
   "id": "c6798923",
   "metadata": {},
   "outputs": [],
   "source": [
    "model.save_weights('./models', 'relu_leak_0.1')"
   ]
  },
  {
   "cell_type": "code",
   "execution_count": null,
   "id": "e9d75c89",
   "metadata": {},
   "outputs": [],
   "source": [
    "plotter.read_file('./logs/relu_leak_0.1.txt')\n",
    "plotter.plot_gradients('./plots', 'gradients_relu_leak_0.1', 700)\n",
    "plotter.plot_weights('./plots', 'weights_relu_leak_0.1', 700)\n",
    "plotter.plot_score('./plots', 'accuracy_relu_leak_0.1', 700)"
   ]
  },
  {
   "cell_type": "code",
   "execution_count": null,
   "id": "0eeaa3f1",
   "metadata": {},
   "outputs": [],
   "source": [
    "trainer.predict(X_test, y_test, True)"
   ]
  },
  {
   "cell_type": "markdown",
   "id": "ffd7fc92",
   "metadata": {},
   "source": [
    "### Predictions over time"
   ]
  },
  {
   "cell_type": "code",
   "execution_count": null,
   "id": "a5269c97",
   "metadata": {},
   "outputs": [],
   "source": [
    "model.load_weights(r'models\\batch_size_1.npz')\n",
    "print(\"weights:\")\n",
    "model.show_weights()\n",
    "print(\"biases:\")\n",
    "model.show_biases()"
   ]
  },
  {
   "cell_type": "code",
   "execution_count": null,
   "id": "49b5b56c",
   "metadata": {},
   "outputs": [],
   "source": [
    "plotter.read_file(r'logs\\batch_size_1.txt')\n",
    "plotter.plot_predictions(X_train, \"./plots\", \"batch_size_1\")"
   ]
  },
  {
   "cell_type": "markdown",
   "id": "f27a145e",
   "metadata": {},
   "source": [
    "### Loss Landscape"
   ]
  },
  {
   "cell_type": "code",
   "execution_count": null,
   "id": "2ba89267",
   "metadata": {},
   "outputs": [],
   "source": [
    "model = Model(binary_loss, der_binary_cross_entropy, 1)\n",
    "model.add_layer(Layer(2))\n",
    "model.add_layer(Layer(2, leaky_relu(), der_leaky_relu()))\n",
    "model.add_layer(Layer(1, sigmoid, der_sigmoid))\n",
    "model.compile()"
   ]
  },
  {
   "cell_type": "code",
   "execution_count": null,
   "id": "fd804f08",
   "metadata": {},
   "outputs": [],
   "source": [
    "model.load_weights(r'models\\batch_size_1.npz')"
   ]
  },
  {
   "cell_type": "code",
   "execution_count": null,
   "id": "ac21deef",
   "metadata": {},
   "outputs": [],
   "source": [
    "trainer = Trainer(model, SGD())"
   ]
  },
  {
   "cell_type": "code",
   "execution_count": null,
   "id": "cb9c50ee",
   "metadata": {},
   "outputs": [],
   "source": [
    "plotter.set_model_layers(3)\n",
    "plotter.plot_contours(trainer, X_train, y_train, \"./plots\")"
   ]
  },
  {
   "cell_type": "code",
   "execution_count": null,
   "id": "e7090ad9",
   "metadata": {},
   "outputs": [],
   "source": []
  }
 ],
 "metadata": {
  "kernelspec": {
   "display_name": "Python 3 (ipykernel)",
   "language": "python",
   "name": "python3"
  },
  "language_info": {
   "codemirror_mode": {
    "name": "ipython",
    "version": 3
   },
   "file_extension": ".py",
   "mimetype": "text/x-python",
   "name": "python",
   "nbconvert_exporter": "python",
   "pygments_lexer": "ipython3",
   "version": "3.9.6"
  }
 },
 "nbformat": 4,
 "nbformat_minor": 5
}
