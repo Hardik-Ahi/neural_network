{
 "cells": [
  {
   "cell_type": "code",
   "execution_count": null,
   "metadata": {},
   "outputs": [],
   "source": [
    "from nn.model_classes import Model, Layer\n",
    "from nn.functions import mean_square_error, der_mean_square_error, leaky_relu, der_leaky_relu, mirror, der_mirror\n",
    "from nn.trainer import RegressionTrainer\n",
    "from nn.plotter import Plotter\n",
    "from nn.dataset_utils import linear_regression_dataset, standardize_data\n",
    "from nn.optimizers import SGD\n",
    "import numpy as np"
   ]
  },
  {
   "cell_type": "code",
   "execution_count": null,
   "metadata": {},
   "outputs": [],
   "source": [
    "model = Model(mean_square_error, der_mean_square_error, 100)\n",
    "model.add_layer(Layer(1))  # input layer\n",
    "model.add_layer(Layer(1, mirror, der_mirror))\n",
    "model.compile()"
   ]
  },
  {
   "cell_type": "code",
   "execution_count": null,
   "metadata": {},
   "outputs": [],
   "source": [
    "trainer = RegressionTrainer(model, SGD())"
   ]
  },
  {
   "cell_type": "code",
   "execution_count": null,
   "metadata": {},
   "outputs": [],
   "source": [
    "X_train, y_train = linear_regression_dataset(100)\n",
    "Plotter.plot_points(X_train, y_train)"
   ]
  },
  {
   "cell_type": "code",
   "execution_count": null,
   "metadata": {},
   "outputs": [],
   "source": [
    "X_train = standardize_data(X_train)  # important!!!\n",
    "y_train = standardize_data(y_train)\n",
    "Plotter.plot_points(X_train, y_train)"
   ]
  },
  {
   "cell_type": "code",
   "execution_count": null,
   "metadata": {},
   "outputs": [],
   "source": [
    "X_test, y_test = linear_regression_dataset(30, x_start = 200, x_end = 300)\n",
    "Plotter.plot_points(X_test, y_test)"
   ]
  },
  {
   "cell_type": "code",
   "execution_count": null,
   "metadata": {},
   "outputs": [],
   "source": [
    "X_test = standardize_data(X_test)\n",
    "y_test = standardize_data(y_test)\n",
    "Plotter.plot_points(X_test, y_test)"
   ]
  },
  {
   "cell_type": "code",
   "execution_count": null,
   "metadata": {},
   "outputs": [],
   "source": [
    "plotter = Plotter()"
   ]
  },
  {
   "cell_type": "markdown",
   "metadata": {},
   "source": [
    "### Straight Line Simulation"
   ]
  },
  {
   "cell_type": "code",
   "execution_count": null,
   "metadata": {},
   "outputs": [],
   "source": [
    "model.compile()\n",
    "\n",
    "print('weights:')\n",
    "model.show_weights()\n",
    "print('biases:')\n",
    "model.show_biases()"
   ]
  },
  {
   "cell_type": "code",
   "execution_count": null,
   "metadata": {},
   "outputs": [],
   "source": [
    "trainer.train(X_train, y_train, 1, 0.02, 10)"
   ]
  },
  {
   "cell_type": "code",
   "execution_count": null,
   "metadata": {},
   "outputs": [],
   "source": [
    "trainer.save_history('./logs', 'straight_line')"
   ]
  },
  {
   "cell_type": "code",
   "execution_count": null,
   "metadata": {},
   "outputs": [],
   "source": [
    "plotter.read_file('./logs/straight_line.txt')\n",
    "plotter.set_model_layers(2)\n",
    "plotter.plot_gradients('./plots', 'straight_line', 700)\n",
    "plotter.plot_weights('./plots', 'straight_line', 700)\n",
    "plotter.plot_score('./plots', 'straight_line', 700, confusion_matrix = False)\n",
    "plotter.plot_regression(X_train, y_train, \"./plots\", \"straight_line\")"
   ]
  },
  {
   "cell_type": "code",
   "execution_count": null,
   "metadata": {},
   "outputs": [],
   "source": [
    "model.save_weights('./models', 'straight_line')"
   ]
  },
  {
   "cell_type": "code",
   "execution_count": null,
   "metadata": {},
   "outputs": [],
   "source": [
    "trainer.predict(X_test, y_test)"
   ]
  },
  {
   "cell_type": "markdown",
   "metadata": {},
   "source": [
    "### Slightly more complex model (1 additional layer)"
   ]
  },
  {
   "cell_type": "code",
   "execution_count": null,
   "metadata": {},
   "outputs": [],
   "source": [
    "model = Model(mean_square_error, der_mean_square_error, 100)\n",
    "model.add_layer(Layer(1))  # input layer\n",
    "model.add_layer(Layer(1, leaky_relu(), der_leaky_relu()))\n",
    "model.add_layer(Layer(1, mirror, der_mirror))"
   ]
  },
  {
   "cell_type": "code",
   "execution_count": null,
   "metadata": {},
   "outputs": [],
   "source": [
    "model.compile()\n",
    "\n",
    "print('weights:')\n",
    "model.show_weights()\n",
    "print('biases:')\n",
    "model.show_biases()"
   ]
  },
  {
   "cell_type": "code",
   "execution_count": null,
   "metadata": {},
   "outputs": [],
   "source": [
    "trainer = RegressionTrainer(model, SGD())\n",
    "trainer.train(X_train, y_train, 1, 0.02, 10)"
   ]
  },
  {
   "cell_type": "code",
   "execution_count": null,
   "metadata": {},
   "outputs": [],
   "source": [
    "trainer.save_history('./logs', 'slightly_complex')"
   ]
  },
  {
   "cell_type": "code",
   "execution_count": null,
   "metadata": {},
   "outputs": [],
   "source": [
    "plotter.read_file('./logs/slightly_complex.txt')\n",
    "plotter.set_model_layers(3)\n",
    "plotter.plot_gradients('./plots', 'slightly_complex', 700)\n",
    "plotter.plot_weights('./plots', 'slightly_complex', 700)\n",
    "plotter.plot_score('./plots', 'slightly_complex', 700, confusion_matrix = False)\n",
    "plotter.plot_regression(X_train, y_train, \"./plots\", \"slightly_complex\")"
   ]
  },
  {
   "cell_type": "code",
   "execution_count": null,
   "metadata": {},
   "outputs": [],
   "source": [
    "model.save_weights('./models', 'slightly_complex')"
   ]
  },
  {
   "cell_type": "code",
   "execution_count": null,
   "metadata": {},
   "outputs": [],
   "source": [
    "trainer.predict(X_test, y_test)"
   ]
  }
 ],
 "metadata": {
  "kernelspec": {
   "display_name": "Python 3 (ipykernel)",
   "language": "python",
   "name": "python3"
  },
  "language_info": {
   "codemirror_mode": {
    "name": "ipython",
    "version": 3
   },
   "file_extension": ".py",
   "mimetype": "text/x-python",
   "name": "python",
   "nbconvert_exporter": "python",
   "pygments_lexer": "ipython3",
   "version": "3.9.6"
  }
 },
 "nbformat": 4,
 "nbformat_minor": 2
}
